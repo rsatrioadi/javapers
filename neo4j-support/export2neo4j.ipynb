{
 "cells": [
  {
   "cell_type": "code",
   "execution_count": 1,
   "metadata": {},
   "outputs": [
    {
     "name": "stdout",
     "output_type": "stream",
     "text": [
      "Requirement already satisfied: py2neo in c:\\users\\20215365\\applications\\miniconda3\\envs\\default\\lib\\site-packages (2021.2.3)\n",
      "Requirement already satisfied: certifi in c:\\users\\20215365\\applications\\miniconda3\\envs\\default\\lib\\site-packages (from py2neo) (2022.9.24)\n",
      "Requirement already satisfied: pansi>=2020.7.3 in c:\\users\\20215365\\applications\\miniconda3\\envs\\default\\lib\\site-packages (from py2neo) (2020.7.3)\n",
      "Requirement already satisfied: urllib3 in c:\\users\\20215365\\applications\\miniconda3\\envs\\default\\lib\\site-packages (from py2neo) (1.26.12)\n",
      "Requirement already satisfied: interchange~=2021.0.4 in c:\\users\\20215365\\applications\\miniconda3\\envs\\default\\lib\\site-packages (from py2neo) (2021.0.4)\n",
      "Requirement already satisfied: pygments>=2.0.0 in c:\\users\\20215365\\applications\\miniconda3\\envs\\default\\lib\\site-packages (from py2neo) (2.13.0)\n",
      "Requirement already satisfied: six>=1.15.0 in c:\\users\\20215365\\applications\\miniconda3\\envs\\default\\lib\\site-packages (from py2neo) (1.16.0)\n",
      "Requirement already satisfied: packaging in c:\\users\\20215365\\applications\\miniconda3\\envs\\default\\lib\\site-packages (from py2neo) (21.3)\n",
      "Requirement already satisfied: monotonic in c:\\users\\20215365\\applications\\miniconda3\\envs\\default\\lib\\site-packages (from py2neo) (1.6)\n",
      "Requirement already satisfied: pytz in c:\\users\\20215365\\applications\\miniconda3\\envs\\default\\lib\\site-packages (from interchange~=2021.0.4->py2neo) (2022.6)\n",
      "Requirement already satisfied: pyparsing!=3.0.5,>=2.0.2 in c:\\users\\20215365\\applications\\miniconda3\\envs\\default\\lib\\site-packages (from packaging->py2neo) (3.0.9)\n",
      "Note: you may need to restart the kernel to use updated packages.\n"
     ]
    }
   ],
   "source": [
    "%pip install --upgrade py2neo"
   ]
  },
  {
   "cell_type": "code",
   "execution_count": 1,
   "metadata": {},
   "outputs": [],
   "source": [
    "from py2neo import Graph\n",
    "from py2neo import Node, Relationship\n",
    "import json"
   ]
  },
  {
   "cell_type": "code",
   "execution_count": 2,
   "metadata": {},
   "outputs": [],
   "source": [
    "def read_json_file(file_path):\n",
    "    with open(file_path, 'r') as file:\n",
    "        data = json.load(file)\n",
    "    return data"
   ]
  },
  {
   "cell_type": "code",
   "execution_count": 3,
   "metadata": {},
   "outputs": [],
   "source": [
    "password = 'k9mailneo4j'\n",
    "graph = Graph('bolt://localhost:7687', auth=('neo4j', password))"
   ]
  },
  {
   "cell_type": "code",
   "execution_count": 4,
   "metadata": {},
   "outputs": [],
   "source": [
    "# Delete everything in the DB\n",
    "# **Warning:** only for starting over in case of inconsistent DB content.\n",
    "graph.delete_all()"
   ]
  },
  {
   "cell_type": "code",
   "execution_count": 5,
   "metadata": {},
   "outputs": [],
   "source": [
    "file_path = '../sample_output/k9mail.json'\n",
    "data = read_json_file(file_path)"
   ]
  },
  {
   "cell_type": "code",
   "execution_count": 6,
   "metadata": {},
   "outputs": [
    {
     "data": {
      "text/plain": [
       "{'data': {'id': 'com.fsck.k9.Throttle.isCallbackScheduled()',\n",
       "  'properties': {'sourceText': 'private boolean isCallbackScheduled() {\\r\\n    return runningTimerTask != null;\\r\\n}',\n",
       "   'visibility': 'private',\n",
       "   'simpleName': 'isCallbackScheduled()',\n",
       "   'kind': 'method',\n",
       "   'metaSrc': 'source code'},\n",
       "  'labels': ['Operation']}}"
      ]
     },
     "execution_count": 6,
     "metadata": {},
     "output_type": "execute_result"
    }
   ],
   "source": [
    "data['elements']['nodes'][0]"
   ]
  },
  {
   "cell_type": "code",
   "execution_count": 7,
   "metadata": {},
   "outputs": [
    {
     "data": {
      "text/plain": [
       "Node('Operation', kind='method', metaSrc='source code', name='isCallbackScheduled()', qualifiedName='com.fsck.k9.Throttle.isCallbackScheduled()', simpleName='isCallbackScheduled()', sourceText='private boolean isCallbackScheduled() {\\r\\n    return runningTimerTask != null;\\r\\n}', visibility='private')"
      ]
     },
     "execution_count": 7,
     "metadata": {},
     "output_type": "execute_result"
    }
   ],
   "source": [
    "node_dict = {node['data']['id']:Node(*node['data']['labels'], name=node['data']['properties']['simpleName'], **node['data']['properties'], qualifiedName=node['data']['id']) for node in data['elements']['nodes']}\n",
    "list(node_dict.values())[0]"
   ]
  },
  {
   "cell_type": "code",
   "execution_count": 8,
   "metadata": {},
   "outputs": [
    {
     "data": {
      "text/plain": [
       "{'data': {'id': 'ac7cba3e978bef0c69a74a9b1b4a1e08',\n",
       "  'source': 'com.fsck.k9.notification.NotificationController.getAccountName(com.fsck.k9.Account).account',\n",
       "  'label': 'type',\n",
       "  'properties': {'weight': 1, 'metaSrc': 'source code'},\n",
       "  'target': 'com.fsck.k9.Account'}}"
      ]
     },
     "execution_count": 8,
     "metadata": {},
     "output_type": "execute_result"
    }
   ],
   "source": [
    "data['elements']['edges'][0]"
   ]
  },
  {
   "cell_type": "code",
   "execution_count": 9,
   "metadata": {},
   "outputs": [
    {
     "data": {
      "text/plain": [
       "type(Node('Variable', kind='parameter', metaSrc='source code', name='account', qualifiedName='com.fsck.k9.notification.NotificationController.getAccountName(com.fsck.k9.Account).account', simpleName='account'), Node('Structure', kind='class', metaSrc='source code', name='Account', qualifiedName='com.fsck.k9.Account', simpleName='Account'), metaSrc='source code', weight=1)"
      ]
     },
     "execution_count": 9,
     "metadata": {},
     "output_type": "execute_result"
    }
   ],
   "source": [
    "edge_dict = {edge['data']['id']:Relationship(node_dict[edge['data']['source']], edge['data']['label'], node_dict[edge['data']['target']], **edge['data']['properties']) for edge in data['elements']['edges']}\n",
    "list(edge_dict.values())[0]"
   ]
  },
  {
   "cell_type": "code",
   "execution_count": 10,
   "metadata": {},
   "outputs": [],
   "source": [
    "tx = graph.begin()\n",
    "\n",
    "for node in node_dict.values():\n",
    "  tx.create(node)\n",
    "\n",
    "for edge in edge_dict.values():\n",
    "  tx.create(edge)\n",
    "\n",
    "graph.commit(tx)\n"
   ]
  },
  {
   "cell_type": "code",
   "execution_count": null,
   "metadata": {},
   "outputs": [],
   "source": [
    "packages = [\n",
    "    \"com.fsck.k9\",\n",
    "    \"com.fsck.k9.account\",\n",
    "    \"com.fsck.k9.activity\",\n",
    "    \"com.fsck.k9.activity.compose\",\n",
    "    \"com.fsck.k9.activity.loader\",\n",
    "    \"com.fsck.k9.activity.misc\",\n",
    "    \"com.fsck.k9.activity.setup\",\n",
    "    \"com.fsck.k9.autocrypt\",\n",
    "    \"com.fsck.k9.cache\",\n",
    "    \"com.fsck.k9.controller\",\n",
    "    \"com.fsck.k9.crypto\",\n",
    "    \"com.fsck.k9.fragment\",\n",
    "    \"com.fsck.k9.helper\",\n",
    "    \"com.fsck.k9.helper.jsoup\",\n",
    "]"
   ]
  },
  {
   "cell_type": "code",
   "execution_count": null,
   "metadata": {},
   "outputs": [
    {
     "data": {
      "text/html": [
       "<table><tr><th>c</th></tr><tr><td style=\"text-align:left\">(_13:Structure {kind: &#039;interface&#039;, metaSrc: &#039;source code&#039;, name: &#039;FieldExtractor&#039;, qualifiedName: &#039;com.fsck.k9.provider.MessageProvider$FieldExtractor&#039;, simpleName: &#039;FieldExtractor&#039;})</td></tr><tr><td style=\"text-align:left\">(_35:Structure {kind: &#039;class&#039;, metaSrc: &#039;source code&#039;, name: &#039;MessageProvider&#039;, qualifiedName: &#039;com.fsck.k9.provider.MessageProvider&#039;, simpleName: &#039;MessageProvider&#039;})</td></tr><tr><td style=\"text-align:left\">(_67:Structure {kind: &#039;interface&#039;, metaSrc: &#039;source code&#039;, name: &#039;OnCryptoClickListener&#039;, qualifiedName: &#039;com.fsck.k9.ui.messageview.OnCryptoClickListener&#039;, simpleName: &#039;OnCryptoClickListener&#039;})</td></tr></table>"
      ],
      "text/plain": [
       " c                                                                                                                                                                                                  \n",
       "----------------------------------------------------------------------------------------------------------------------------------------------------------------------------------------------------\n",
       " (_13:Structure {kind: 'interface', metaSrc: 'source code', name: 'FieldExtractor', qualifiedName: 'com.fsck.k9.provider.MessageProvider$FieldExtractor', simpleName: 'FieldExtractor'})            \n",
       " (_35:Structure {kind: 'class', metaSrc: 'source code', name: 'MessageProvider', qualifiedName: 'com.fsck.k9.provider.MessageProvider', simpleName: 'MessageProvider'})                             \n",
       " (_67:Structure {kind: 'interface', metaSrc: 'source code', name: 'OnCryptoClickListener', qualifiedName: 'com.fsck.k9.ui.messageview.OnCryptoClickListener', simpleName: 'OnCryptoClickListener'}) "
      ]
     },
     "execution_count": 14,
     "metadata": {},
     "output_type": "execute_result"
    }
   ],
   "source": [
    "for package in packages:\n",
    "  result = graph.run(f'MATCH (p:Container)-[:contains]->(c:Structure)-[:hasScript]->(m:Operation) WHERE p.qualifiedName=\"{package}\" m.visibility=\"public\" AND m.kind=\"method\" RETURN c.simpleName, c.kind, m.simpleName, m.sourceText')\n",
    "  print(result)\n"
   ]
  }
 ],
 "metadata": {
  "kernelspec": {
   "display_name": "default",
   "language": "python",
   "name": "python3"
  },
  "language_info": {
   "codemirror_mode": {
    "name": "ipython",
    "version": 3
   },
   "file_extension": ".py",
   "mimetype": "text/x-python",
   "name": "python",
   "nbconvert_exporter": "python",
   "pygments_lexer": "ipython3",
   "version": "3.10.8"
  },
  "orig_nbformat": 4
 },
 "nbformat": 4,
 "nbformat_minor": 2
}
